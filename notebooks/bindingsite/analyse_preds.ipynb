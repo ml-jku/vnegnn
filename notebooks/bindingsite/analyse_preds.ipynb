{
 "cells": [
  {
   "cell_type": "code",
   "execution_count": null,
   "id": "b070098f",
   "metadata": {},
   "outputs": [],
   "source": [
    "%load_ext autoreload\n",
    "%autoreload 2\n",
    "\n",
    "import sys\n",
    "\n",
    "sys.path.append(\"../..\")\n",
    "from notebooks import notebook_setup\n",
    "\n",
    "notebook_setup.setup_notebook()"
   ]
  },
  {
   "cell_type": "code",
   "execution_count": null,
   "id": "c860a421",
   "metadata": {},
   "outputs": [],
   "source": [
    "from pathlib import Path\n",
    "\n",
    "import ipywidgets as widgets\n",
    "import nglview as nv\n",
    "import numpy as np\n",
    "import pandas as pd\n",
    "import yaml\n",
    "from IPython.display import clear_output, display\n",
    "from nglview.shape import Shape\n",
    "from sklearn.cluster import AgglomerativeClustering, MeanShift\n",
    "from notebooks.notebook_utils import render_protein\n",
    "from tqdm.auto import tqdm\n",
    "\n",
    "from src.modules.cluster import cluster"
   ]
  },
  {
   "cell_type": "code",
   "execution_count": null,
   "id": "978eb052",
   "metadata": {},
   "outputs": [],
   "source": [
    "log_path = Path(\"logs/eval/runs/2025-10-13_16-06-43-908995\")\n",
    "preds_path = log_path / \"predictions.csv\"\n",
    "\n",
    "with open(log_path / \".hydra/config.yaml\", \"r\") as f:\n",
    "    test_dataset = yaml.safe_load(f)[\"dataloader\"]\n",
    "\n",
    "protein_path = Path(f\"data/equipocket/{test_dataset}/raw\")\n",
    "\n",
    "df = pd.read_csv(preds_path)\n",
    "protein_names = sorted(df[\"protein_name\"].dropna().astype(str).unique().tolist())"
   ]
  },
  {
   "cell_type": "code",
   "execution_count": null,
   "id": "34a553fe",
   "metadata": {},
   "outputs": [],
   "source": [
    "out = widgets.Output()\n",
    "protein_dropdown = widgets.Combobox(\n",
    "    options=protein_names,\n",
    "    description=\"Protein\",\n",
    "    ensure_option=True,  # only allow values from options\n",
    "    placeholder='Type to search...',\n",
    "    value=protein_names[0]\n",
    ")\n",
    "\n",
    "\n",
    "def _render_protein(protein_name):\n",
    "    with out:\n",
    "        clear_output(wait=True)\n",
    "        view = render_protein(protein_name, df, protein_path)\n",
    "        display(view)\n",
    "\n",
    "\n",
    "def _on_dropdown_change(change):\n",
    "    if change[\"name\"] == \"value\":\n",
    "        _render_protein(change[\"new\"])\n",
    "\n",
    "\n",
    "protein_dropdown.observe(_on_dropdown_change, names=\"value\")\n",
    "\n",
    "_render_protein(protein_dropdown.value)\n",
    "display(protein_dropdown, out)"
   ]
  },
  {
   "cell_type": "code",
   "execution_count": null,
   "id": "8820e22e",
   "metadata": {},
   "outputs": [],
   "source": [
    "cluster_algorithm = MeanShift()\n",
    "# cluster_algorithm = AgglomerativeClustering(n_clusters=None, distance_threshold=4.0)"
   ]
  },
  {
   "cell_type": "code",
   "execution_count": null,
   "id": "28468404",
   "metadata": {},
   "outputs": [],
   "source": [
    "cluster_preds = True\n",
    "num_global_nodes = 8\n",
    "threshold = 4\n",
    "\n",
    "res = []\n",
    "for p in tqdm(df[\"protein_name\"].unique()):\n",
    "    binding = np.load(protein_path / f\"{p}/binding.npz\")\n",
    "\n",
    "    bindingsite_centers = binding[\"binding_site_centers\"]\n",
    "\n",
    "    df_selected_protein = df.loc[lambda x: x[\"protein_name\"] == p]\n",
    "    pred_coords = df_selected_protein[[\"x\", \"y\", \"z\"]].values\n",
    "    confs = df_selected_protein[\"confidence_0\"].values\n",
    "\n",
    "    lig_ids = np.unique(binding[\"ligand_ids\"])\n",
    "    num_ligs = len(lig_ids)\n",
    "\n",
    "    n_rank = {f\"n_rank_dca_{i}\": 0 for i in range(num_global_nodes)}\n",
    "    if cluster_preds:\n",
    "        pred_coords, confs = cluster(pred_coords, confs, algorithm=cluster_algorithm)\n",
    "\n",
    "    confs_rank = np.argsort(confs)[::-1]\n",
    "\n",
    "    for lig_id in lig_ids:\n",
    "        lig_coords = binding[\"ligand_coords\"][binding[\"ligand_ids\"] == lig_id]\n",
    "        for i, rank in enumerate(range(num_global_nodes)):\n",
    "            top_i = confs_rank[:i+num_ligs]\n",
    "            top_i_coords = pred_coords[top_i]\n",
    "\n",
    "            dist = np.linalg.norm(lig_coords[:, None] - top_i_coords, axis=-1)\n",
    "            below_dist = (dist <= threshold).any()\n",
    "            n_rank[f\"n_rank_dca_{i}\"] += 1 if below_dist else 0\n",
    "\n",
    "    n_rank_dcc = {f\"n_rank_dcc_{i}\": 0 for i in range(num_global_nodes)}\n",
    "    for center in bindingsite_centers:\n",
    "        for i, rank in enumerate(range(num_global_nodes)):\n",
    "            top_i = confs_rank[:i+num_ligs]\n",
    "            top_i_coords = pred_coords[top_i]\n",
    "\n",
    "            dist = np.linalg.norm(center - top_i_coords, axis=-1)\n",
    "            below_dist = (dist <= threshold).any()\n",
    "            n_rank_dcc[f\"n_rank_dcc_{i}\"] += 1 if below_dist else 0\n",
    "\n",
    "    res.append({\"protein_name\": p, \"num_ligs\": num_ligs, **n_rank, **n_rank_dcc})"
   ]
  },
  {
   "cell_type": "code",
   "execution_count": null,
   "id": "15a2f0be",
   "metadata": {},
   "outputs": [],
   "source": [
    "df_res = pd.DataFrame(res)\n",
    "\n",
    "dca_rank_cols = [c for c in df_res.columns if \"dca\" in c]\n",
    "for c in dca_rank_cols:\n",
    "    df_res[f\"dca_ratio_{c}\"] = round(df_res[c] / df_res[\"num_ligs\"], 2)\n",
    "\n",
    "dca_ratio_cols = [c for c in df_res.columns if \"dca_ratio_\" in c]\n",
    "df_rank_dca = df_res[[\"protein_name\", \"num_ligs\"] + dca_ratio_cols]"
   ]
  },
  {
   "cell_type": "code",
   "execution_count": null,
   "id": "3d92ed2f",
   "metadata": {},
   "outputs": [],
   "source": [
    "df_rank_dca[dca_ratio_cols].mean(axis=0)"
   ]
  },
  {
   "cell_type": "code",
   "execution_count": null,
   "id": "b36da4bd",
   "metadata": {},
   "outputs": [],
   "source": [
    "dcc_rank_cols = [c for c in df_res.columns if \"dcc\" in c]\n",
    "for c in dcc_rank_cols:\n",
    "    df_res[f\"dcc_ratio_{c}\"] = round(df_res[c] / df_res[\"num_ligs\"], 2)\n",
    "\n",
    "dcc_ratio_cols = [c for c in df_res.columns if \"dcc_ratio_\" in c]\n",
    "df_rank_dcc = df_res[[\"protein_name\", \"num_ligs\"] + dcc_ratio_cols]"
   ]
  },
  {
   "cell_type": "code",
   "execution_count": null,
   "id": "67844414",
   "metadata": {},
   "outputs": [],
   "source": [
    "df_rank_dcc[dcc_ratio_cols].mean(axis=0)"
   ]
  },
  {
   "cell_type": "code",
   "execution_count": null,
   "id": "97799127",
   "metadata": {},
   "outputs": [],
   "source": []
  },
  {
   "cell_type": "code",
   "execution_count": null,
   "id": "4bc9012e",
   "metadata": {},
   "outputs": [],
   "source": []
  }
 ],
 "metadata": {
  "kernelspec": {
   "display_name": "common",
   "language": "python",
   "name": "python3"
  },
  "language_info": {
   "codemirror_mode": {
    "name": "ipython",
    "version": 3
   },
   "file_extension": ".py",
   "mimetype": "text/x-python",
   "name": "python",
   "nbconvert_exporter": "python",
   "pygments_lexer": "ipython3",
   "version": "3.11.12"
  }
 },
 "nbformat": 4,
 "nbformat_minor": 5
}
